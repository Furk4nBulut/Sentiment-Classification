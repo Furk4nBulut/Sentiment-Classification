{
 "cells": [
  {
   "metadata": {},
   "cell_type": "markdown",
   "source": "# Sentiment Classification",
   "id": "18edfaee82cfd617"
  },
  {
   "metadata": {
    "ExecuteTime": {
     "end_time": "2024-08-12T18:41:36.795945Z",
     "start_time": "2024-08-12T18:41:36.788407Z"
    }
   },
   "cell_type": "code",
   "source": [
    "# Importing the libraries\n",
    "import pandas as pd\n",
    "import numpy as np"
   ],
   "id": "c5b8c94a0bdc527e",
   "outputs": [],
   "execution_count": 344
  },
  {
   "metadata": {
    "ExecuteTime": {
     "end_time": "2024-08-12T18:41:38.890281Z",
     "start_time": "2024-08-12T18:41:37.400312Z"
    }
   },
   "cell_type": "code",
   "source": [
    "# Load the data and combine them\n",
    "df_pos = pd.read_csv('data/reviews.pos' , delimiter=\"\\t\", header=None)\n",
    "df_neg = pd.read_csv('data/reviews.neg', delimiter=\"\\t\", header=None)\n",
    "\n",
    "df_neg['label'] = 'neg'\n",
    "df_pos['label'] = 'pos'\n",
    "\n",
    "df = pd.concat([df_pos, df_neg], ignore_index=True)\n",
    "df.to_csv('data/combined_reviews.csv', index=False, header=['review', 'label'])"
   ],
   "id": "97193588da1607b7",
   "outputs": [],
   "execution_count": 345
  },
  {
   "metadata": {
    "ExecuteTime": {
     "end_time": "2024-08-12T18:41:40.017232Z",
     "start_time": "2024-08-12T18:41:39.315619Z"
    }
   },
   "cell_type": "code",
   "source": [
    "data = pd.read_csv('data/combined_reviews.csv')\n",
    "data = data.sample(n=1000).reset_index(drop=True)"
   ],
   "id": "fe82ba76b92cc8b9",
   "outputs": [],
   "execution_count": 346
  },
  {
   "metadata": {
    "ExecuteTime": {
     "end_time": "2024-08-12T18:41:40.405130Z",
     "start_time": "2024-08-12T18:41:40.387625Z"
    }
   },
   "cell_type": "code",
   "source": "data.head()",
   "id": "9e6e85cb9888acd0",
   "outputs": [
    {
     "data": {
      "text/plain": [
       "                                              review label\n",
       "0  zaten oral b diş fırçası kullanıyordum, yenile...   pos\n",
       "1  urun gayet guzel 20.000 km kullandim silinme v...   pos\n",
       "2  genelde primayı kullanıyoruz, ara sıra can beb...   pos\n",
       "3  bundan önceki g2 telefonuma göre kat kat hızlı...   pos\n",
       "4  kesinlikler süper bir film herkese tavsiye ede...   pos"
      ],
      "text/html": [
       "<div>\n",
       "<style scoped>\n",
       "    .dataframe tbody tr th:only-of-type {\n",
       "        vertical-align: middle;\n",
       "    }\n",
       "\n",
       "    .dataframe tbody tr th {\n",
       "        vertical-align: top;\n",
       "    }\n",
       "\n",
       "    .dataframe thead th {\n",
       "        text-align: right;\n",
       "    }\n",
       "</style>\n",
       "<table border=\"1\" class=\"dataframe\">\n",
       "  <thead>\n",
       "    <tr style=\"text-align: right;\">\n",
       "      <th></th>\n",
       "      <th>review</th>\n",
       "      <th>label</th>\n",
       "    </tr>\n",
       "  </thead>\n",
       "  <tbody>\n",
       "    <tr>\n",
       "      <th>0</th>\n",
       "      <td>zaten oral b diş fırçası kullanıyordum, yenile...</td>\n",
       "      <td>pos</td>\n",
       "    </tr>\n",
       "    <tr>\n",
       "      <th>1</th>\n",
       "      <td>urun gayet guzel 20.000 km kullandim silinme v...</td>\n",
       "      <td>pos</td>\n",
       "    </tr>\n",
       "    <tr>\n",
       "      <th>2</th>\n",
       "      <td>genelde primayı kullanıyoruz, ara sıra can beb...</td>\n",
       "      <td>pos</td>\n",
       "    </tr>\n",
       "    <tr>\n",
       "      <th>3</th>\n",
       "      <td>bundan önceki g2 telefonuma göre kat kat hızlı...</td>\n",
       "      <td>pos</td>\n",
       "    </tr>\n",
       "    <tr>\n",
       "      <th>4</th>\n",
       "      <td>kesinlikler süper bir film herkese tavsiye ede...</td>\n",
       "      <td>pos</td>\n",
       "    </tr>\n",
       "  </tbody>\n",
       "</table>\n",
       "</div>"
      ]
     },
     "execution_count": 347,
     "metadata": {},
     "output_type": "execute_result"
    }
   ],
   "execution_count": 347
  },
  {
   "metadata": {
    "ExecuteTime": {
     "end_time": "2024-08-12T18:41:41.166879Z",
     "start_time": "2024-08-12T18:41:41.158887Z"
    }
   },
   "cell_type": "code",
   "source": "data['label'].value_counts()",
   "id": "89881fa0f0a02a80",
   "outputs": [
    {
     "data": {
      "text/plain": [
       "label\n",
       "pos    933\n",
       "neg     67\n",
       "Name: count, dtype: int64"
      ]
     },
     "execution_count": 348,
     "metadata": {},
     "output_type": "execute_result"
    }
   ],
   "execution_count": 348
  },
  {
   "metadata": {
    "ExecuteTime": {
     "end_time": "2024-08-12T18:41:41.775209Z",
     "start_time": "2024-08-12T18:41:41.756285Z"
    }
   },
   "cell_type": "code",
   "source": [
    "import re\n",
    "import nltk\n",
    "nltk.download('stopwords')\n",
    "from nltk.corpus import stopwords\n",
    "import string"
   ],
   "id": "5e5ba53c36e14100",
   "outputs": [
    {
     "name": "stderr",
     "output_type": "stream",
     "text": [
      "[nltk_data] Downloading package stopwords to\n",
      "[nltk_data]     C:\\Users\\furka\\AppData\\Roaming\\nltk_data...\n",
      "[nltk_data]   Package stopwords is already up-to-date!\n"
     ]
    }
   ],
   "execution_count": 349
  },
  {
   "metadata": {
    "ExecuteTime": {
     "end_time": "2024-08-12T18:41:42.445286Z",
     "start_time": "2024-08-12T18:41:42.440277Z"
    }
   },
   "cell_type": "code",
   "source": [
    "# Function to clean the text\n",
    "# split and print the punctiation, stopwords and the text\n",
    "\n",
    "punctuation = string.punctuation\n",
    "stopwords = stopwords.words('turkish')\n",
    "\n",
    "print(punctuation)\n",
    "print(stopwords)"
   ],
   "id": "724509cf917b976d",
   "outputs": [
    {
     "name": "stdout",
     "output_type": "stream",
     "text": [
      "!\"#$%&'()*+,-./:;<=>?@[\\]^_`{|}~\n",
      "['acaba', 'ama', 'aslında', 'az', 'bazı', 'belki', 'biri', 'birkaç', 'birşey', 'biz', 'bu', 'çok', 'çünkü', 'da', 'daha', 'de', 'defa', 'diye', 'eğer', 'en', 'gibi', 'hem', 'hep', 'hepsi', 'her', 'hiç', 'için', 'ile', 'ise', 'kez', 'ki', 'kim', 'mı', 'mu', 'mü', 'nasıl', 'ne', 'neden', 'nerde', 'nerede', 'nereye', 'niçin', 'niye', 'o', 'sanki', 'şey', 'siz', 'şu', 'tüm', 've', 'veya', 'ya', 'yani']\n"
     ]
    }
   ],
   "execution_count": 350
  },
  {
   "metadata": {
    "ExecuteTime": {
     "end_time": "2024-08-12T18:41:43.116210Z",
     "start_time": "2024-08-12T18:41:43.086021Z"
    }
   },
   "cell_type": "code",
   "source": [
    "def clean_from_stopwords(data):\n",
    "    cleaned_data = []\n",
    "    for d in data:\n",
    "        temp = ''\n",
    "        for word in d.split():\n",
    "            if word not in stopwords and not word.isnumeric():\n",
    "                temp += word + ' '\n",
    "        cleaned_data.append(temp.strip())\n",
    "    return pd.Series(cleaned_data)\n",
    "\n",
    "# Clean data from stopwords\n",
    "data['review'] = clean_from_stopwords(data['review'])"
   ],
   "id": "21c8b4493b10cc31",
   "outputs": [],
   "execution_count": 351
  },
  {
   "metadata": {
    "ExecuteTime": {
     "end_time": "2024-08-12T18:41:43.797795Z",
     "start_time": "2024-08-12T18:41:43.780796Z"
    }
   },
   "cell_type": "code",
   "source": "data['review'][0:5]",
   "id": "13ad34916e74e51e",
   "outputs": [
    {
     "data": {
      "text/plain": [
       "0    zaten oral b diş fırçası kullanıyordum, yenile...\n",
       "1    urun gayet guzel 20.000 km kullandim silinme v...\n",
       "2    genelde primayı kullanıyoruz, ara sıra can beb...\n",
       "3    bundan önceki g2 telefonuma göre kat kat hızlı...\n",
       "4    kesinlikler süper bir film herkese tavsiye ede...\n",
       "Name: review, dtype: object"
      ]
     },
     "execution_count": 352,
     "metadata": {},
     "output_type": "execute_result"
    }
   ],
   "execution_count": 352
  },
  {
   "metadata": {
    "ExecuteTime": {
     "end_time": "2024-08-12T18:41:44.440597Z",
     "start_time": "2024-08-12T18:41:44.415555Z"
    }
   },
   "cell_type": "code",
   "source": [
    "# Function to clean the text from punctuation\n",
    "def clean_data_from_punctuation(data):\n",
    "    cleaned_data = []\n",
    "    for d in data:\n",
    "        temp = ''\n",
    "        for word in d:\n",
    "            if word not in punctuation:\n",
    "                temp += word\n",
    "        cleaned_data.append(temp)\n",
    "    return pd.Series(cleaned_data)\n",
    "\n",
    "# Clean data from punctuation\n",
    "data['review'] = clean_data_from_punctuation(data['review'])"
   ],
   "id": "ba469bed1e76236d",
   "outputs": [],
   "execution_count": 353
  },
  {
   "metadata": {
    "ExecuteTime": {
     "end_time": "2024-08-12T18:41:45.153116Z",
     "start_time": "2024-08-12T18:41:45.146117Z"
    }
   },
   "cell_type": "code",
   "source": "data['review'][0:5]",
   "id": "c1f9e9c184abea2c",
   "outputs": [
    {
     "data": {
      "text/plain": [
       "0    zaten oral b diş fırçası kullanıyordum yenilem...\n",
       "1    urun gayet guzel 20000 km kullandim silinme vs...\n",
       "2    genelde primayı kullanıyoruz ara sıra can bebe...\n",
       "3    bundan önceki g2 telefonuma göre kat kat hızlı...\n",
       "4    kesinlikler süper bir film herkese tavsiye ede...\n",
       "Name: review, dtype: object"
      ]
     },
     "execution_count": 354,
     "metadata": {},
     "output_type": "execute_result"
    }
   ],
   "execution_count": 354
  },
  {
   "metadata": {
    "ExecuteTime": {
     "end_time": "2024-08-12T18:41:45.806955Z",
     "start_time": "2024-08-12T18:41:45.782960Z"
    }
   },
   "cell_type": "code",
   "source": [
    "# save the cleaned data\n",
    "data.to_csv('data/cleaned_reviews.csv', index=False)\n",
    "data = pd.read_csv('data/cleaned_reviews.csv',sep=',',names=['review', 'label'])\n",
    "print(data.head())"
   ],
   "id": "8001c02c4d298104",
   "outputs": [
    {
     "name": "stdout",
     "output_type": "stream",
     "text": [
      "                                              review  label\n",
      "0                                             review  label\n",
      "1  zaten oral b diş fırçası kullanıyordum yenilem...    pos\n",
      "2  urun gayet guzel 20000 km kullandim silinme vs...    pos\n",
      "3  genelde primayı kullanıyoruz ara sıra can bebe...    pos\n",
      "4  bundan önceki g2 telefonuma göre kat kat hızlı...    pos\n"
     ]
    }
   ],
   "execution_count": 355
  },
  {
   "metadata": {},
   "cell_type": "code",
   "source": "",
   "id": "efce46c34442d504",
   "outputs": [],
   "execution_count": null
  }
 ],
 "metadata": {
  "kernelspec": {
   "display_name": "Python 3",
   "language": "python",
   "name": "python3"
  },
  "language_info": {
   "codemirror_mode": {
    "name": "ipython",
    "version": 2
   },
   "file_extension": ".py",
   "mimetype": "text/x-python",
   "name": "python",
   "nbconvert_exporter": "python",
   "pygments_lexer": "ipython2",
   "version": "2.7.6"
  }
 },
 "nbformat": 4,
 "nbformat_minor": 5
}
