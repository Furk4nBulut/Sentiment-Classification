{
 "cells": [
  {
   "metadata": {},
   "cell_type": "markdown",
   "source": "# Sentiment Classification",
   "id": "18edfaee82cfd617"
  },
  {
   "metadata": {},
   "cell_type": "markdown",
   "source": "Data Preprocessing",
   "id": "f096b6b55f07c31"
  },
  {
   "metadata": {
    "ExecuteTime": {
     "end_time": "2024-08-12T19:35:28.064664Z",
     "start_time": "2024-08-12T19:35:27.056382Z"
    }
   },
   "cell_type": "code",
   "source": [
    "# Importing the libraries\n",
    "import pandas as pd\n",
    "import numpy as np\n",
    "import matplotlib.pyplot as plt\n",
    "import seaborn as sns\n",
    "import re\n",
    "import nltk\n",
    "nltk.download('stopwords')\n",
    "from nltk.corpus import stopwords\n",
    "import string"
   ],
   "id": "c5b8c94a0bdc527e",
   "outputs": [
    {
     "name": "stderr",
     "output_type": "stream",
     "text": [
      "[nltk_data] Downloading package stopwords to\n",
      "[nltk_data]     C:\\Users\\furka\\AppData\\Roaming\\nltk_data...\n",
      "[nltk_data]   Package stopwords is already up-to-date!\n"
     ]
    }
   ],
   "execution_count": 1
  },
  {
   "metadata": {
    "ExecuteTime": {
     "end_time": "2024-08-12T19:35:29.634610Z",
     "start_time": "2024-08-12T19:35:28.743373Z"
    }
   },
   "cell_type": "code",
   "source": [
    "# Load the data and combine them\n",
    "df_pos = pd.read_csv('data/reviews.pos' , delimiter=\"\\t\", header=None,)\n",
    "df_neg = pd.read_csv('data/reviews.neg', delimiter=\"\\t\", header=None)\n",
    "\n",
    "df_neg['label'] = 'neg'\n",
    "df_pos['label'] = 'pos'\n",
    "\n",
    "df_pos = df_pos.sample(frac=0.1).reset_index(drop=True)\n",
    "\n",
    "df = pd.concat([df_pos, df_neg], ignore_index=True)\n",
    "df.to_csv('data/combined_reviews.csv', index=False, header=['review', 'label'])"
   ],
   "id": "97193588da1607b7",
   "outputs": [],
   "execution_count": 2
  },
  {
   "metadata": {
    "ExecuteTime": {
     "end_time": "2024-08-12T19:35:30.762976Z",
     "start_time": "2024-08-12T19:35:30.644670Z"
    }
   },
   "cell_type": "code",
   "source": [
    "data = pd.read_csv('data/combined_reviews.csv')\n",
    "data = data.sample(frac=0.6).reset_index(drop=True)"
   ],
   "id": "fe82ba76b92cc8b9",
   "outputs": [],
   "execution_count": 3
  },
  {
   "metadata": {
    "ExecuteTime": {
     "end_time": "2024-08-12T19:35:31.234253Z",
     "start_time": "2024-08-12T19:35:31.211350Z"
    }
   },
   "cell_type": "code",
   "source": "data.head()",
   "id": "9e6e85cb9888acd0",
   "outputs": [
    {
     "data": {
      "text/plain": [
       "                                              review label\n",
       "0  ürün elime ulaştı beklentilerimin hiçbirini ka...   neg\n",
       "1  yerli malı yurdun malı bunu herkes kullanmalı....   pos\n",
       "2  yorumlara bakarak ürünü aldım,çok kötü bir kağ...   neg\n",
       "3  fotoğrafa yeni başladım. geliştiriyorum kendim...   pos\n",
       "4  küçük çocukları olan aileler için evde bulunma...   pos"
      ],
      "text/html": [
       "<div>\n",
       "<style scoped>\n",
       "    .dataframe tbody tr th:only-of-type {\n",
       "        vertical-align: middle;\n",
       "    }\n",
       "\n",
       "    .dataframe tbody tr th {\n",
       "        vertical-align: top;\n",
       "    }\n",
       "\n",
       "    .dataframe thead th {\n",
       "        text-align: right;\n",
       "    }\n",
       "</style>\n",
       "<table border=\"1\" class=\"dataframe\">\n",
       "  <thead>\n",
       "    <tr style=\"text-align: right;\">\n",
       "      <th></th>\n",
       "      <th>review</th>\n",
       "      <th>label</th>\n",
       "    </tr>\n",
       "  </thead>\n",
       "  <tbody>\n",
       "    <tr>\n",
       "      <th>0</th>\n",
       "      <td>ürün elime ulaştı beklentilerimin hiçbirini ka...</td>\n",
       "      <td>neg</td>\n",
       "    </tr>\n",
       "    <tr>\n",
       "      <th>1</th>\n",
       "      <td>yerli malı yurdun malı bunu herkes kullanmalı....</td>\n",
       "      <td>pos</td>\n",
       "    </tr>\n",
       "    <tr>\n",
       "      <th>2</th>\n",
       "      <td>yorumlara bakarak ürünü aldım,çok kötü bir kağ...</td>\n",
       "      <td>neg</td>\n",
       "    </tr>\n",
       "    <tr>\n",
       "      <th>3</th>\n",
       "      <td>fotoğrafa yeni başladım. geliştiriyorum kendim...</td>\n",
       "      <td>pos</td>\n",
       "    </tr>\n",
       "    <tr>\n",
       "      <th>4</th>\n",
       "      <td>küçük çocukları olan aileler için evde bulunma...</td>\n",
       "      <td>pos</td>\n",
       "    </tr>\n",
       "  </tbody>\n",
       "</table>\n",
       "</div>"
      ]
     },
     "execution_count": 4,
     "metadata": {},
     "output_type": "execute_result"
    }
   ],
   "execution_count": 4
  },
  {
   "metadata": {
    "ExecuteTime": {
     "end_time": "2024-08-12T19:35:31.782405Z",
     "start_time": "2024-08-12T19:35:31.762400Z"
    }
   },
   "cell_type": "code",
   "source": "data['label'].value_counts()",
   "id": "89881fa0f0a02a80",
   "outputs": [
    {
     "data": {
      "text/plain": [
       "label\n",
       "pos    13128\n",
       "neg     8984\n",
       "Name: count, dtype: int64"
      ]
     },
     "execution_count": 5,
     "metadata": {},
     "output_type": "execute_result"
    }
   ],
   "execution_count": 5
  },
  {
   "metadata": {
    "ExecuteTime": {
     "end_time": "2024-08-12T19:35:32.328869Z",
     "start_time": "2024-08-12T19:35:32.320877Z"
    }
   },
   "cell_type": "code",
   "source": [
    "# Function to clean the text\n",
    "# split and print the punctiation, stopwords and the text\n",
    "\n",
    "punctuation = string.punctuation\n",
    "stopwords = stopwords.words('turkish')\n",
    "\n",
    "print(punctuation)\n",
    "print(stopwords)"
   ],
   "id": "724509cf917b976d",
   "outputs": [
    {
     "name": "stdout",
     "output_type": "stream",
     "text": [
      "!\"#$%&'()*+,-./:;<=>?@[\\]^_`{|}~\n",
      "['acaba', 'ama', 'aslında', 'az', 'bazı', 'belki', 'biri', 'birkaç', 'birşey', 'biz', 'bu', 'çok', 'çünkü', 'da', 'daha', 'de', 'defa', 'diye', 'eğer', 'en', 'gibi', 'hem', 'hep', 'hepsi', 'her', 'hiç', 'için', 'ile', 'ise', 'kez', 'ki', 'kim', 'mı', 'mu', 'mü', 'nasıl', 'ne', 'neden', 'nerde', 'nerede', 'nereye', 'niçin', 'niye', 'o', 'sanki', 'şey', 'siz', 'şu', 'tüm', 've', 'veya', 'ya', 'yani']\n"
     ]
    }
   ],
   "execution_count": 6
  },
  {
   "metadata": {
    "ExecuteTime": {
     "end_time": "2024-08-12T19:35:33.308103Z",
     "start_time": "2024-08-12T19:35:32.849682Z"
    }
   },
   "cell_type": "code",
   "source": [
    "def clean_from_stopwords(data):\n",
    "    cleaned_data = []\n",
    "    for d in data:\n",
    "        temp = ''\n",
    "        for word in d.split():\n",
    "            if word not in stopwords and not word.isnumeric():\n",
    "                temp += word + ' '\n",
    "        cleaned_data.append(temp.strip())\n",
    "    return pd.Series(cleaned_data)\n",
    "\n",
    "# Clean data from stopwords\n",
    "data['review'] = clean_from_stopwords(data['review'])"
   ],
   "id": "21c8b4493b10cc31",
   "outputs": [],
   "execution_count": 7
  },
  {
   "metadata": {
    "ExecuteTime": {
     "end_time": "2024-08-12T19:35:33.664006Z",
     "start_time": "2024-08-12T19:35:33.658987Z"
    }
   },
   "cell_type": "code",
   "source": "data['review'][0:5]",
   "id": "13ad34916e74e51e",
   "outputs": [
    {
     "data": {
      "text/plain": [
       "0    ürün elime ulaştı beklentilerimin hiçbirini ka...\n",
       "1    yerli malı yurdun malı bunu herkes kullanmalı....\n",
       "2    yorumlara bakarak ürünü aldım,çok kötü bir kağ...\n",
       "3    fotoğrafa yeni başladım. geliştiriyorum kendim...\n",
       "4    küçük çocukları olan aileler evde bulunması ge...\n",
       "Name: review, dtype: object"
      ]
     },
     "execution_count": 8,
     "metadata": {},
     "output_type": "execute_result"
    }
   ],
   "execution_count": 8
  },
  {
   "metadata": {
    "ExecuteTime": {
     "end_time": "2024-08-12T19:35:34.479474Z",
     "start_time": "2024-08-12T19:35:34.174502Z"
    }
   },
   "cell_type": "code",
   "source": [
    "# Function to clean the text from punctuation\n",
    "def clean_data_from_punctuation(data):\n",
    "    cleaned_data = []\n",
    "    for d in data:\n",
    "        temp = ''\n",
    "        for word in d:\n",
    "            if word not in punctuation:\n",
    "                temp += word\n",
    "        cleaned_data.append(temp)\n",
    "    return pd.Series(cleaned_data)\n",
    "\n",
    "# Clean data from punctuation\n",
    "data['review'] = clean_data_from_punctuation(data['review'])"
   ],
   "id": "ba469bed1e76236d",
   "outputs": [],
   "execution_count": 9
  },
  {
   "metadata": {
    "ExecuteTime": {
     "end_time": "2024-08-12T19:35:35.223780Z",
     "start_time": "2024-08-12T19:35:35.212778Z"
    }
   },
   "cell_type": "code",
   "source": "data['review'][0:5]",
   "id": "c1f9e9c184abea2c",
   "outputs": [
    {
     "data": {
      "text/plain": [
       "0    ürün elime ulaştı beklentilerimin hiçbirini ka...\n",
       "1    yerli malı yurdun malı bunu herkes kullanmalı ...\n",
       "2    yorumlara bakarak ürünü aldımçok kötü bir kağı...\n",
       "3    fotoğrafa yeni başladım geliştiriyorum kendimi...\n",
       "4    küçük çocukları olan aileler evde bulunması ge...\n",
       "Name: review, dtype: object"
      ]
     },
     "execution_count": 10,
     "metadata": {},
     "output_type": "execute_result"
    }
   ],
   "execution_count": 10
  },
  {
   "metadata": {
    "ExecuteTime": {
     "end_time": "2024-08-12T19:35:35.840153Z",
     "start_time": "2024-08-12T19:35:35.697277Z"
    }
   },
   "cell_type": "code",
   "source": [
    "# save the cleaned data\n",
    "data.to_csv('data/cleaned_reviews.csv', index=False)\n",
    "data = pd.read_csv('data/cleaned_reviews.csv',sep=',',names=['review', 'label'])\n",
    "print(data.head())"
   ],
   "id": "8001c02c4d298104",
   "outputs": [
    {
     "name": "stdout",
     "output_type": "stream",
     "text": [
      "                                              review  label\n",
      "0                                             review  label\n",
      "1  ürün elime ulaştı beklentilerimin hiçbirini ka...    neg\n",
      "2  yerli malı yurdun malı bunu herkes kullanmalı ...    pos\n",
      "3  yorumlara bakarak ürünü aldımçok kötü bir kağı...    neg\n",
      "4  fotoğrafa yeni başladım geliştiriyorum kendimi...    pos\n"
     ]
    }
   ],
   "execution_count": 11
  },
  {
   "metadata": {},
   "cell_type": "markdown",
   "source": "Modeling",
   "id": "849403eed51c4dce"
  },
  {
   "metadata": {
    "ExecuteTime": {
     "end_time": "2024-08-12T19:35:37.315895Z",
     "start_time": "2024-08-12T19:35:37.216196Z"
    }
   },
   "cell_type": "code",
   "source": [
    "from sklearn.model_selection import train_test_split\n",
    "\n",
    "x_train, x_test, y_train, y_test = train_test_split(\n",
    "    data['review'].values.astype('U'),\n",
    "    data['label'].values.astype('U'),\n",
    "    test_size=0.3, random_state=42)\n",
    "\n",
    "print(x_train.shape, x_test.shape)"
   ],
   "id": "efce46c34442d504",
   "outputs": [
    {
     "name": "stdout",
     "output_type": "stream",
     "text": [
      "(15479,) (6634,)\n"
     ]
    }
   ],
   "execution_count": 12
  },
  {
   "metadata": {
    "ExecuteTime": {
     "end_time": "2024-08-12T19:35:38.126996Z",
     "start_time": "2024-08-12T19:35:37.798993Z"
    }
   },
   "cell_type": "code",
   "source": [
    "# Count Vectorizer\n",
    "from sklearn.feature_extraction.text import CountVectorizer\n",
    "count_vectorizer = CountVectorizer()\n",
    "X_train_count = count_vectorizer.fit_transform(x_train)\n",
    "print(X_train_count.shape)"
   ],
   "id": "361b7e4f9ad5c5ed",
   "outputs": [
    {
     "name": "stdout",
     "output_type": "stream",
     "text": [
      "(15479, 50420)\n"
     ]
    }
   ],
   "execution_count": 13
  },
  {
   "metadata": {
    "ExecuteTime": {
     "end_time": "2024-08-12T19:35:38.559945Z",
     "start_time": "2024-08-12T19:35:38.530963Z"
    }
   },
   "cell_type": "code",
   "source": [
    "# TF-IDF (Term Frequency-Inverse Document Frequency) vectorizer\n",
    "from sklearn.feature_extraction.text import TfidfTransformer\n",
    "tfidf_transformer = TfidfTransformer()\n",
    "X_train_tfidf = tfidf_transformer.fit_transform(X_train_count)\n",
    "print(X_train_tfidf.shape)"
   ],
   "id": "12fe25aa3dcfa1d",
   "outputs": [
    {
     "name": "stdout",
     "output_type": "stream",
     "text": [
      "(15479, 50420)\n"
     ]
    }
   ],
   "execution_count": 14
  },
  {
   "metadata": {
    "ExecuteTime": {
     "end_time": "2024-08-12T19:35:39.298819Z",
     "start_time": "2024-08-12T19:35:39.164264Z"
    }
   },
   "cell_type": "code",
   "source": [
    "# Naive Bayes Classifier for Multinomial Models\n",
    "from sklearn.naive_bayes import MultinomialNB\n",
    "clf = MultinomialNB().fit(X_train_tfidf, y_train)\n",
    "X_test_count = count_vectorizer.transform(x_test)\n",
    "X_test_tfidf = tfidf_transformer.transform(X_test_count)"
   ],
   "id": "106ac932f8a2726f",
   "outputs": [],
   "execution_count": 15
  },
  {
   "metadata": {
    "ExecuteTime": {
     "end_time": "2024-08-12T19:35:39.919850Z",
     "start_time": "2024-08-12T19:35:39.905532Z"
    }
   },
   "cell_type": "code",
   "source": [
    "# Predict the sentiment of the test data\n",
    "y_pred = clf.predict(X_test_tfidf)\n",
    "for review, sentiment in zip(x_test[:25], y_pred[:25]):\n",
    "    print('%r => %s' % (review, sentiment))"
   ],
   "id": "aa7c0cbdd5491b8d",
   "outputs": [
    {
     "name": "stdout",
     "output_type": "stream",
     "text": [
      "'ürün kaliteli tek eksiği var isim yazma seçeneği yok olsaydı şık olurdu fiyatına göre mükemmel denebilir' => pos\n",
      "'lezzeti dışarıda yapılan çoğu latte den güzel kısa sürede yapılabilmesi büyük kolaylık sağlıyor çoğu yerde satılmasa hepsiburadadan hızlıca temin etmek mümkün' => pos\n",
      "'bence programlı olması güzelkolay kullanım kısa sürede türlü yemeği yapabiliyorsunuzçalışan bayanlara büyük kolaylıkfiyatı ucuz sayılmaztefal marka güvenle kullanabilirsiniz' => pos\n",
      "'android market binlerce app yükleyebiliyorsunuz' => pos\n",
      "'yorumlara bakarak aldım oyle çokta güzel degilhele kabartmalar cok amatörce olmus olmasa iyiymişyorumlara aldanmayın' => neg\n",
      "'alışveriş sitesi yine beni yanıltmadı teşekkürler' => pos\n",
      "'ürünü telefonda kullanamiyorum çalişmiyor' => pos\n",
      "'kadar ihtiyaç duyulan bir ürünü kadar uygun fiyata kadar hızlı bir şekilde almak müthiş bir deneyim keşke alırken bir kaç tane alsaydım' => pos\n",
      "'öncelikle hepsiburadaya teşekkür ederim hafta bitmeden telefonu bana ulaştırdığı için' => pos\n",
      "'önce 3040s ilk tıraş oldum hayal kırıklığı yıl önce kullandığım diğer bilinen marka tıraş makinesi araçta giderken bile kolayca tıraş olabilirdim günlük sakalımı bununla dakika boğuşarak tıraş edebildim yer kıl oldu aynı bölgeden geçmeden temizlenmiyor boyun bölgesinde iş iyice zor' => pos\n",
      "'aksiyon kamerasında kullanıyorum şimdiye kadar bir olumsuzlukla karşılaşmadımtek eksiği pakette dönüştürücü adaptörün olmamasıdır' => pos\n",
      "'ürün hakiki deri gayet sağlam fakat elime biraz küçük geldi ellerim büyük olduğundan olabilir ebatlarına dikkat edin arkadaşlar işi garantiye almak bir beden büyük söyleyin' => neg\n",
      "'ürün aydınlatma olarak koridor küçük mekanlar ideal ürün muadil 5watt led ampullere göre biraz büyük havalandırma delikleri olmadığı özellikle yaz sıcaklarında uzun vadede bir performans vereceğini kullanıp göreceğiz fiyat olarak uyguna gelmektedir almadan önce hesabınızı iyi yapınız' => pos\n",
      "'üç kuruş verin iyisini alın basit tavsiye etmem' => neg\n",
      "'cok kotu kimyasal kokusu varyikadimhavalandirdimgecmedibu nasil bir cocuk halisi resmen sagligi tehdit ediyornasil givenip cocuklarimin odasina serecegimben bile dakika halinin yaninda duramiyorumalirken bir dusunun isterseniz' => neg\n",
      "'arçelik şirketini kutluyorum muhteşem bir ürün yapmışlar önce almadığıma pişmanım' => pos\n",
      "'plastik tutacaklar kauçuk kaplı sıkıca havalandırmayı tutuyor ses çıkarmıyor alın ömür boyu kullanın' => pos\n",
      "'inanın kadarını beklemiyordum teşekkürler' => pos\n",
      "'kargo gün içinde malatya geldi kullananlar bilir duracell pillerin üzerinde farklı noktaya basınca pilin doluluk düzeyini veren sarı çubuk çıkıyor içindeki bütün pilleri tek tek kontrol ettim 60 ı dolu sonuç olarak pilin doluluk düzeyi tatmin edici değil başka ürünlerden alın fiyatına göre iyi mi derseniz ehh işte' => pos\n",
      "'ürün güvenilirliği yok bilirimlastik basınçlarını başka bir ürünle karşılaştırınca farklı ölçüyorayrıca aletin kendi tutarsızlığıda varbu fiyata başka beklememk lazım' => pos\n",
      "'ancak arabaya montajı telefona bağlamak oldukça basit tamamen işini yapmaya odaklı bi ürün telefonunuzu gözünüzün önünde sıkıca tutuyor kadar dikeyyatay konumunu yerinden çıkarmadan ayarlayabiliyorsunuz iphone 6plus a sınırda oldu büyük telefon oturmaz' => pos\n",
      "'ilk kirilacak bir alıyorum açıkçası cekinerek aldım muhteşem paketlenmis gerçekten güzel renkleri canlı  şimdiden güle güle kullanin alanlarr' => pos\n",
      "'koşu bandı alırken yanında sipariş verdim fiyatı makul koşu bandının ömrünü uzatmak gerekli bir ürün koşu bandının yanında bakım yağı geliyor kullanımlık sadece' => pos\n",
      "'piyasadaki sıradan ucuz valizlerin yarım tık üstü kalite beklemeyin' => neg\n",
      "'su kahvesi fincanı anında kaynatıp atıyor üstelik fincana koyarken yanı kirletiyor güzel değil tavsiye etmiyorum' => neg\n"
     ]
    }
   ],
   "execution_count": 16
  },
  {
   "metadata": {},
   "cell_type": "markdown",
   "source": "Model Evaluation",
   "id": "419204354a542ba2"
  },
  {
   "metadata": {
    "ExecuteTime": {
     "end_time": "2024-08-12T19:35:41.105677Z",
     "start_time": "2024-08-12T19:35:41.039887Z"
    }
   },
   "cell_type": "code",
   "source": [
    "# Results\n",
    "from sklearn.metrics import accuracy_score, confusion_matrix, classification_report\n",
    "print('Accuracy:', accuracy_score(y_test, y_pred))\n",
    "print('\\n')\n",
    "print('Confusion Matrix:', confusion_matrix(y_test, y_pred))\n",
    "print('\\n')\n",
    "print(classification_report(y_test, y_pred))\n"
   ],
   "id": "8410337523ad7541",
   "outputs": [
    {
     "name": "stdout",
     "output_type": "stream",
     "text": [
      "Accuracy: 0.7791679228218269\n",
      "\n",
      "\n",
      "Confusion Matrix: [[   0    0    1]\n",
      " [   0 1371 1368]\n",
      " [   0   96 3798]]\n",
      "\n",
      "\n",
      "              precision    recall  f1-score   support\n",
      "\n",
      "       label       0.00      0.00      0.00         1\n",
      "         neg       0.93      0.50      0.65      2739\n",
      "         pos       0.74      0.98      0.84      3894\n",
      "\n",
      "    accuracy                           0.78      6634\n",
      "   macro avg       0.56      0.49      0.50      6634\n",
      "weighted avg       0.82      0.78      0.76      6634\n",
      "\n"
     ]
    },
    {
     "name": "stderr",
     "output_type": "stream",
     "text": [
      "C:\\Users\\furka\\.conda\\envs\\NLP\\lib\\site-packages\\sklearn\\metrics\\_classification.py:1531: UndefinedMetricWarning: Precision is ill-defined and being set to 0.0 in labels with no predicted samples. Use `zero_division` parameter to control this behavior.\n",
      "  _warn_prf(average, modifier, f\"{metric.capitalize()} is\", len(result))\n",
      "C:\\Users\\furka\\.conda\\envs\\NLP\\lib\\site-packages\\sklearn\\metrics\\_classification.py:1531: UndefinedMetricWarning: Precision is ill-defined and being set to 0.0 in labels with no predicted samples. Use `zero_division` parameter to control this behavior.\n",
      "  _warn_prf(average, modifier, f\"{metric.capitalize()} is\", len(result))\n",
      "C:\\Users\\furka\\.conda\\envs\\NLP\\lib\\site-packages\\sklearn\\metrics\\_classification.py:1531: UndefinedMetricWarning: Precision is ill-defined and being set to 0.0 in labels with no predicted samples. Use `zero_division` parameter to control this behavior.\n",
      "  _warn_prf(average, modifier, f\"{metric.capitalize()} is\", len(result))\n"
     ]
    }
   ],
   "execution_count": 17
  },
  {
   "metadata": {
    "ExecuteTime": {
     "end_time": "2024-08-12T19:35:42.537098Z",
     "start_time": "2024-08-12T19:35:42.040963Z"
    }
   },
   "cell_type": "code",
   "source": [
    "# Graph of results\n",
    "cm = confusion_matrix(y_test, y_pred)\n",
    "sns.heatmap(cm, annot=True, fmt='d')\n",
    "plt.xlabel('Predicted')\n",
    "plt.ylabel('Truth')\n",
    "plt.show()"
   ],
   "id": "ff4b00cc814c4f72",
   "outputs": [
    {
     "data": {
      "text/plain": [
       "<Figure size 640x480 with 2 Axes>"
      ],
      "image/png": "[encoded data removed]"
     },
     "metadata": {},
     "output_type": "display_data"
    }
   ],
   "execution_count": 18
  },
  {
   "metadata": {
    "ExecuteTime": {
     "end_time": "2024-08-12T19:35:43.585157Z",
     "start_time": "2024-08-12T19:35:43.323750Z"
    }
   },
   "cell_type": "code",
   "source": [
    "# Save the model\n",
    "import joblib\n",
    "joblib.dump(clf, 'model/sentiment_classification_model.pkl')\n",
    "joblib.dump(count_vectorizer, 'model/count_vectorizer.pkl')\n",
    "joblib.dump(tfidf_transformer, 'model/tfidf_transformer.pkl')"
   ],
   "id": "64cef07369324c06",
   "outputs": [
    {
     "data": {
      "text/plain": [
       "['model/tfidf_transformer.pkl']"
      ]
     },
     "execution_count": 19,
     "metadata": {},
     "output_type": "execute_result"
    }
   ],
   "execution_count": 19
  },
  {
   "metadata": {},
   "cell_type": "code",
   "source": "",
   "id": "cf0c940f86ec4c46",
   "outputs": [],
   "execution_count": null
  }
 ],
 "metadata": {
  "kernelspec": {
   "display_name": "Python 3",
   "language": "python",
   "name": "python3"
  },
  "language_info": {
   "codemirror_mode": {
    "name": "ipython",
    "version": 2
   },
   "file_extension": ".py",
   "mimetype": "text/x-python",
   "name": "python",
   "nbconvert_exporter": "python",
   "pygments_lexer": "ipython2",
   "version": "2.7.6"
  }
 },
 "nbformat": 4,
 "nbformat_minor": 5
}
