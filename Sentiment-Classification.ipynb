{
 "cells": [
  {
   "metadata": {},
   "cell_type": "markdown",
   "source": "# Sentiment Classification",
   "id": "18edfaee82cfd617"
  },
  {
   "metadata": {},
   "cell_type": "markdown",
   "source": "Data Preprocessing",
   "id": "f096b6b55f07c31"
  },
  {
   "metadata": {
    "ExecuteTime": {
     "end_time": "2024-08-12T19:17:41.530720Z",
     "start_time": "2024-08-12T19:17:41.156745Z"
    }
   },
   "cell_type": "code",
   "source": [
    "# Importing the libraries\n",
    "import pandas as pd\n",
    "import numpy as np\n",
    "import matplotlib.pyplot as plt\n",
    "import seaborn as sns\n",
    "import re\n",
    "import nltk\n",
    "nltk.download('stopwords')\n",
    "from nltk.corpus import stopwords\n",
    "import string"
   ],
   "id": "c5b8c94a0bdc527e",
   "outputs": [
    {
     "name": "stderr",
     "output_type": "stream",
     "text": [
      "[nltk_data] Downloading package stopwords to\n",
      "[nltk_data]     C:\\Users\\furka\\AppData\\Roaming\\nltk_data...\n",
      "[nltk_data]   Package stopwords is already up-to-date!\n"
     ]
    }
   ],
   "execution_count": 469
  },
  {
   "metadata": {
    "ExecuteTime": {
     "end_time": "2024-08-12T19:17:45.244601Z",
     "start_time": "2024-08-12T19:17:42.186514Z"
    }
   },
   "cell_type": "code",
   "source": [
    "# Load the data and combine them\n",
    "df_pos = pd.read_csv('data/reviews.pos' , delimiter=\"\\t\", header=None,)\n",
    "df_neg = pd.read_csv('data/reviews.neg', delimiter=\"\\t\", header=None)\n",
    "\n",
    "df_neg['label'] = 'neg'\n",
    "df_pos['label'] = 'pos'\n",
    "\n",
    "df_pos = df_pos.sample(frac=0.8).reset_index(drop=True)\n",
    "\n",
    "df = pd.concat([df_pos, df_neg], ignore_index=True)\n",
    "df.to_csv('data/combined_reviews.csv', index=False, header=['review', 'label'])"
   ],
   "id": "97193588da1607b7",
   "outputs": [],
   "execution_count": 470
  },
  {
   "metadata": {
    "ExecuteTime": {
     "end_time": "2024-08-12T19:17:46.570898Z",
     "start_time": "2024-08-12T19:17:45.813448Z"
    }
   },
   "cell_type": "code",
   "source": [
    "data = pd.read_csv('data/combined_reviews.csv')\n",
    "data = data.sample(frac=0.6).reset_index(drop=True)"
   ],
   "id": "fe82ba76b92cc8b9",
   "outputs": [],
   "execution_count": 471
  },
  {
   "metadata": {
    "ExecuteTime": {
     "end_time": "2024-08-12T19:17:47.065793Z",
     "start_time": "2024-08-12T19:17:47.038268Z"
    }
   },
   "cell_type": "code",
   "source": "data.head()",
   "id": "9e6e85cb9888acd0",
   "outputs": [
    {
     "data": {
      "text/plain": [
       "                                              review label\n",
       "0  hızlı geldi. kutusu baya büyük. kalitesi bekle...   pos\n",
       "1  bileklik bana hediye geldi. bileğimde çok şık ...   pos\n",
       "2  kaliteli bir ürün.almak isteyenler tereddüt et...   pos\n",
       "3  ürün konusunda çok takintili bi̇ri̇yi̇mdi̇r, b...   pos\n",
       "4     kaliteli ürün , hızlı gönderi ve uygun fiyat..   pos"
      ],
      "text/html": [
       "<div>\n",
       "<style scoped>\n",
       "    .dataframe tbody tr th:only-of-type {\n",
       "        vertical-align: middle;\n",
       "    }\n",
       "\n",
       "    .dataframe tbody tr th {\n",
       "        vertical-align: top;\n",
       "    }\n",
       "\n",
       "    .dataframe thead th {\n",
       "        text-align: right;\n",
       "    }\n",
       "</style>\n",
       "<table border=\"1\" class=\"dataframe\">\n",
       "  <thead>\n",
       "    <tr style=\"text-align: right;\">\n",
       "      <th></th>\n",
       "      <th>review</th>\n",
       "      <th>label</th>\n",
       "    </tr>\n",
       "  </thead>\n",
       "  <tbody>\n",
       "    <tr>\n",
       "      <th>0</th>\n",
       "      <td>hızlı geldi. kutusu baya büyük. kalitesi bekle...</td>\n",
       "      <td>pos</td>\n",
       "    </tr>\n",
       "    <tr>\n",
       "      <th>1</th>\n",
       "      <td>bileklik bana hediye geldi. bileğimde çok şık ...</td>\n",
       "      <td>pos</td>\n",
       "    </tr>\n",
       "    <tr>\n",
       "      <th>2</th>\n",
       "      <td>kaliteli bir ürün.almak isteyenler tereddüt et...</td>\n",
       "      <td>pos</td>\n",
       "    </tr>\n",
       "    <tr>\n",
       "      <th>3</th>\n",
       "      <td>ürün konusunda çok takintili bi̇ri̇yi̇mdi̇r, b...</td>\n",
       "      <td>pos</td>\n",
       "    </tr>\n",
       "    <tr>\n",
       "      <th>4</th>\n",
       "      <td>kaliteli ürün , hızlı gönderi ve uygun fiyat..</td>\n",
       "      <td>pos</td>\n",
       "    </tr>\n",
       "  </tbody>\n",
       "</table>\n",
       "</div>"
      ]
     },
     "execution_count": 472,
     "metadata": {},
     "output_type": "execute_result"
    }
   ],
   "execution_count": 472
  },
  {
   "metadata": {
    "ExecuteTime": {
     "end_time": "2024-08-12T19:17:47.866184Z",
     "start_time": "2024-08-12T19:17:47.848184Z"
    }
   },
   "cell_type": "code",
   "source": "data['label'].value_counts()",
   "id": "89881fa0f0a02a80",
   "outputs": [
    {
     "data": {
      "text/plain": [
       "label\n",
       "pos    105497\n",
       "neg      8907\n",
       "Name: count, dtype: int64"
      ]
     },
     "execution_count": 473,
     "metadata": {},
     "output_type": "execute_result"
    }
   ],
   "execution_count": 473
  },
  {
   "metadata": {
    "ExecuteTime": {
     "end_time": "2024-08-12T19:17:48.650860Z",
     "start_time": "2024-08-12T19:17:48.626860Z"
    }
   },
   "cell_type": "code",
   "source": [
    "# Function to clean the text\n",
    "# split and print the punctiation, stopwords and the text\n",
    "\n",
    "punctuation = string.punctuation\n",
    "stopwords = stopwords.words('turkish')\n",
    "\n",
    "print(punctuation)\n",
    "print(stopwords)"
   ],
   "id": "724509cf917b976d",
   "outputs": [
    {
     "name": "stdout",
     "output_type": "stream",
     "text": [
      "!\"#$%&'()*+,-./:;<=>?@[\\]^_`{|}~\n",
      "['acaba', 'ama', 'aslında', 'az', 'bazı', 'belki', 'biri', 'birkaç', 'birşey', 'biz', 'bu', 'çok', 'çünkü', 'da', 'daha', 'de', 'defa', 'diye', 'eğer', 'en', 'gibi', 'hem', 'hep', 'hepsi', 'her', 'hiç', 'için', 'ile', 'ise', 'kez', 'ki', 'kim', 'mı', 'mu', 'mü', 'nasıl', 'ne', 'neden', 'nerde', 'nerede', 'nereye', 'niçin', 'niye', 'o', 'sanki', 'şey', 'siz', 'şu', 'tüm', 've', 'veya', 'ya', 'yani']\n"
     ]
    }
   ],
   "execution_count": 474
  },
  {
   "metadata": {
    "ExecuteTime": {
     "end_time": "2024-08-12T19:17:51.473516Z",
     "start_time": "2024-08-12T19:17:49.456344Z"
    }
   },
   "cell_type": "code",
   "source": [
    "def clean_from_stopwords(data):\n",
    "    cleaned_data = []\n",
    "    for d in data:\n",
    "        temp = ''\n",
    "        for word in d.split():\n",
    "            if word not in stopwords and not word.isnumeric():\n",
    "                temp += word + ' '\n",
    "        cleaned_data.append(temp.strip())\n",
    "    return pd.Series(cleaned_data)\n",
    "\n",
    "# Clean data from stopwords\n",
    "data['review'] = clean_from_stopwords(data['review'])"
   ],
   "id": "21c8b4493b10cc31",
   "outputs": [],
   "execution_count": 475
  },
  {
   "metadata": {
    "ExecuteTime": {
     "end_time": "2024-08-12T19:17:51.968536Z",
     "start_time": "2024-08-12T19:17:51.946977Z"
    }
   },
   "cell_type": "code",
   "source": "data['review'][0:5]",
   "id": "13ad34916e74e51e",
   "outputs": [
    {
     "data": {
      "text/plain": [
       "0    hızlı geldi. kutusu baya büyük. kalitesi bekle...\n",
       "1    bileklik bana hediye geldi. bileğimde şık durd...\n",
       "2    kaliteli bir ürün.almak isteyenler tereddüt et...\n",
       "3    ürün konusunda takintili bi̇ri̇yi̇mdi̇r, bi̇r ...\n",
       "4          kaliteli ürün , hızlı gönderi uygun fiyat..\n",
       "Name: review, dtype: object"
      ]
     },
     "execution_count": 476,
     "metadata": {},
     "output_type": "execute_result"
    }
   ],
   "execution_count": 476
  },
  {
   "metadata": {
    "ExecuteTime": {
     "end_time": "2024-08-12T19:17:54.136150Z",
     "start_time": "2024-08-12T19:17:52.579515Z"
    }
   },
   "cell_type": "code",
   "source": [
    "# Function to clean the text from punctuation\n",
    "def clean_data_from_punctuation(data):\n",
    "    cleaned_data = []\n",
    "    for d in data:\n",
    "        temp = ''\n",
    "        for word in d:\n",
    "            if word not in punctuation:\n",
    "                temp += word\n",
    "        cleaned_data.append(temp)\n",
    "    return pd.Series(cleaned_data)\n",
    "\n",
    "# Clean data from punctuation\n",
    "data['review'] = clean_data_from_punctuation(data['review'])"
   ],
   "id": "ba469bed1e76236d",
   "outputs": [],
   "execution_count": 477
  },
  {
   "metadata": {
    "ExecuteTime": {
     "end_time": "2024-08-12T19:17:55.163074Z",
     "start_time": "2024-08-12T19:17:55.143074Z"
    }
   },
   "cell_type": "code",
   "source": "data['review'][0:5]",
   "id": "c1f9e9c184abea2c",
   "outputs": [
    {
     "data": {
      "text/plain": [
       "0    hızlı geldi kutusu baya büyük kalitesi bekledi...\n",
       "1    bileklik bana hediye geldi bileğimde şık durdu...\n",
       "2    kaliteli bir ürünalmak isteyenler tereddüt etm...\n",
       "3    ürün konusunda takintili bi̇ri̇yi̇mdi̇r bi̇r ü...\n",
       "4             kaliteli ürün  hızlı gönderi uygun fiyat\n",
       "Name: review, dtype: object"
      ]
     },
     "execution_count": 478,
     "metadata": {},
     "output_type": "execute_result"
    }
   ],
   "execution_count": 478
  },
  {
   "metadata": {
    "ExecuteTime": {
     "end_time": "2024-08-12T19:17:56.911996Z",
     "start_time": "2024-08-12T19:17:55.994271Z"
    }
   },
   "cell_type": "code",
   "source": [
    "# save the cleaned data\n",
    "data.to_csv('data/cleaned_reviews.csv', index=False)\n",
    "data = pd.read_csv('data/cleaned_reviews.csv',sep=',',names=['review', 'label'])\n",
    "print(data.head())"
   ],
   "id": "8001c02c4d298104",
   "outputs": [
    {
     "name": "stdout",
     "output_type": "stream",
     "text": [
      "                                              review  label\n",
      "0                                             review  label\n",
      "1  hızlı geldi kutusu baya büyük kalitesi bekledi...    pos\n",
      "2  bileklik bana hediye geldi bileğimde şık durdu...    pos\n",
      "3  kaliteli bir ürünalmak isteyenler tereddüt etm...    pos\n",
      "4  ürün konusunda takintili bi̇ri̇yi̇mdi̇r bi̇r ü...    pos\n"
     ]
    }
   ],
   "execution_count": 479
  },
  {
   "metadata": {},
   "cell_type": "markdown",
   "source": "Modeling",
   "id": "849403eed51c4dce"
  },
  {
   "metadata": {
    "ExecuteTime": {
     "end_time": "2024-08-12T19:18:00.850886Z",
     "start_time": "2024-08-12T19:18:00.124281Z"
    }
   },
   "cell_type": "code",
   "source": [
    "from sklearn.model_selection import train_test_split\n",
    "\n",
    "x_train, x_test, y_train, y_test = train_test_split(\n",
    "    data['review'].values.astype('U'),\n",
    "    data['label'].values.astype('U'),\n",
    "    test_size=0.3, random_state=42)\n",
    "\n",
    "print(x_train.shape, x_test.shape)"
   ],
   "id": "efce46c34442d504",
   "outputs": [
    {
     "name": "stdout",
     "output_type": "stream",
     "text": [
      "(80083,) (34322,)\n"
     ]
    }
   ],
   "execution_count": 480
  },
  {
   "metadata": {
    "ExecuteTime": {
     "end_time": "2024-08-12T19:18:03.677095Z",
     "start_time": "2024-08-12T19:18:01.892933Z"
    }
   },
   "cell_type": "code",
   "source": [
    "# Count Vectorizer\n",
    "from sklearn.feature_extraction.text import CountVectorizer\n",
    "count_vectorizer = CountVectorizer()\n",
    "X_train_count = count_vectorizer.fit_transform(x_train)\n",
    "print(X_train_count.shape)"
   ],
   "id": "361b7e4f9ad5c5ed",
   "outputs": [
    {
     "name": "stdout",
     "output_type": "stream",
     "text": [
      "(80083, 144358)\n"
     ]
    }
   ],
   "execution_count": 481
  },
  {
   "metadata": {
    "ExecuteTime": {
     "end_time": "2024-08-12T19:18:04.405186Z",
     "start_time": "2024-08-12T19:18:04.322499Z"
    }
   },
   "cell_type": "code",
   "source": [
    "# TF-IDF (Term Frequency-Inverse Document Frequency) vectorizer\n",
    "from sklearn.feature_extraction.text import TfidfTransformer\n",
    "tfidf_transformer = TfidfTransformer()\n",
    "X_train_tfidf = tfidf_transformer.fit_transform(X_train_count)\n",
    "print(X_train_tfidf.shape)"
   ],
   "id": "12fe25aa3dcfa1d",
   "outputs": [
    {
     "name": "stdout",
     "output_type": "stream",
     "text": [
      "(80083, 144358)\n"
     ]
    }
   ],
   "execution_count": 482
  },
  {
   "metadata": {
    "ExecuteTime": {
     "end_time": "2024-08-12T19:18:06.184677Z",
     "start_time": "2024-08-12T19:18:05.406595Z"
    }
   },
   "cell_type": "code",
   "source": [
    "# Naive Bayes Classifier for Multinomial Models\n",
    "from sklearn.naive_bayes import MultinomialNB\n",
    "clf = MultinomialNB().fit(X_train_tfidf, y_train)\n",
    "X_test_count = count_vectorizer.transform(x_test)\n",
    "X_test_tfidf = tfidf_transformer.transform(X_test_count)"
   ],
   "id": "106ac932f8a2726f",
   "outputs": [],
   "execution_count": 483
  },
  {
   "metadata": {
    "ExecuteTime": {
     "end_time": "2024-08-12T19:19:40.319582Z",
     "start_time": "2024-08-12T19:19:40.289564Z"
    }
   },
   "cell_type": "code",
   "source": [
    "# Predict the sentiment of the test data\n",
    "y_pred = clf.predict(X_test_tfidf)\n",
    "for review, sentiment in zip(x_test[:25], y_pred[:25]):\n",
    "    print('%r => %s' % (review, sentiment))"
   ],
   "id": "aa7c0cbdd5491b8d",
   "outputs": [
    {
     "name": "stdout",
     "output_type": "stream",
     "text": [
      "'merhabadefne koz çay bardağı güzel  alış verişi estetik bardak yaptım teşekkürler' => pos\n",
      "'ürünü geçen yil aldim hi̇ç i̇şi̇mi̇ görmeden di̇rek çöpe attim açiklamalarda yazildiği gi̇bi̇ deği̇l kesi̇nli̇kle kapiya uymuyor uydurmak zor boşuna paranizi çöpe atmayin' => pos\n",
      "'rahat takılıyor güzel bir ürün' => pos\n",
      "'samsung s7 edge bir sıkıntı yok' => pos\n",
      "'ürün siparişten iki gün sonra geldiherşeyiyle süper bir ürünkolay montaj ediliyor güven veriyordışarıda 4050 vermektense direk alın' => pos\n",
      "'ürün kaliteli kullanışlı yerden tasarruf ediyorsunuz dolaplarınız düzenli görünüyor tereddüt etmeden alabileceğiniz bir ürün kutu aldım iki adedinde çatlaklar çıktı sanırım kargodan kaynaklı bir problem onları şekilde kullanıyorum teşekkürler ' => pos\n",
      "'görünümü kavrayışı rahatlığı herşeyi güzel' => pos\n",
      "'hızı gayet iyi günümüz telefonları yararlı bir ürün tavsiye ederim' => pos\n",
      "'ürün elime ulaşır ulaşmaz kullanmaya başladım' => pos\n",
      "'henüz kullanmaya başlamadım inceledim gördüğüm kadarıyla gayet güzel kullanışlı almak isteyenlere tavsiye ederim' => pos\n",
      "'3 2x hdmi girişi' => pos\n",
      "'gayet güzel bi̇ ürün' => pos\n",
      "'geçen yıl arkadaşımın buzdolabını kullandım ürünü bulamadım internettebu ürün ona nispeten biraz sesli çalışıyorderinlik yeterli15 lt şişeler rahatlıkla dik duruyorzaten tür dolağların hiçbiri varolanı soğutma yapmaz yalnızca ürünün soğukluğunu muhafaza eder dışarının sıcaklığının etkisini azaltırben yaz boyu km gezdim araçla günlük bir gezi idi gerek içeçekler gerek kahvaltılıklarda sorun bozulma olmadıiçine bir buz kasedi koyunca uzun muhafaza ediyorfişli olması artı tabiki yatacağınız oda içinde sesten rahatsız olanlar kullanmak istemeyebiliraraç içinde ben arka koltuğa koyuyordum aracın kendi sesi olunca duyulmuyorduarka koltukta olmasının avantajı yolda kapağını rahatça açıp suyunuzu falan alabiliyor yanınızdaki kişi ben tavsiye ederim dediğim sabah koyulan bir soğuk su akşama kadar hatta ertesi sabaha kadar idare ediyoröyle buz tutma falan beklemeyin komik olur' => pos\n",
      "'ertesi gün elime ulaştı bir öğrenci gayet yeterli telefon' => pos\n",
      "'lastiğim patlamıştı işe yaramıştı şimdi yine aldım aracın bagajında bulunmalı hızlıca geldi kargom' => pos\n",
      "'kadar güzel bi ürün kadar güzel bir fiyat kadar hızlı bir kargo diyecek fazla söz yok' => pos\n",
      "'ürün bugun elime geldi sadece bir saat bakabildim saat sarja taktım cihaz gerçekten güzel sadece flas olmaması dez avantaj almak isteyenler kaçırmasın derim' => pos\n",
      "'kum kullandık içlerinde iyilerinden diyebilirim tek sıkıntı kütle topak bırakıyor tuvaletin dibinde onun dışında on numara ürün müthiş fiyat markette kötü bir kumun litresi fiyata satılıyor' => pos\n",
      "'ürün fotoğrafta gösterilenle birebir aynı tv arkasına tek duvara uyguladım gösterişli duruyor' => pos\n",
      "'ürünler kaliteli hepsiburada farkıyla hızlı geliyor' => pos\n",
      "'ürünün kalitesi belli hele bir fiyata olunca kaçmaz bir fırsat haline geliyor ürünü aldıktan sonra daha öncede kullanmıştım kullandım sonuç harika kullanmış olduğum diğer deterjanlar değil makinayı temizliyor bulaşıkları tertemiz çıkarıyor komple bir ürün' => pos\n",
      "'aylık kızım sipariş ettim bukadar güzel olacağını açıkçası beklemiyordum kızım gözünün önünden ayırmak dahi istemiyor sevdikurulumu gayet basit tek sıkıntısı ben siyah kırmızı modelinden sipariş etmisdim resimdekinin aksine arka sepetinde kapağı çamurluklari siyah yerine kırmızı geldi böylede güzel pek önemsemedim' => pos\n",
      "'zaten amaç mekik çekmek gayet rahat bir alet yalnız mekik sırasında boynunuza fazla yüklemeyin fazla kalkmaya çalışırsanız karın kaslarınızı etkin çalıştırmadığınız değil sırt bel kaslarınızı zorlarsınız' => pos\n",
      "'memnun kaldımözellikle bizim yaş üzeri insanlar mükemmel bir banyo desteği küvete girip çıkarken eğilip kalkarken mükemmel destek oluyor fayanslarımın yüzeyleri düzdür temizleyip taktım kemik tuttu delme gerektirmediği ayrıca beğendim' => pos\n",
      "'3kademe ye kadar müthiş sessiz sesli ilk kademe yeterli ağır kokulu kademe görünüyor' => pos\n"
     ]
    }
   ],
   "execution_count": 493
  },
  {
   "metadata": {},
   "cell_type": "markdown",
   "source": "Model Evaluation",
   "id": "419204354a542ba2"
  },
  {
   "metadata": {
    "ExecuteTime": {
     "end_time": "2024-08-12T19:19:41.769203Z",
     "start_time": "2024-08-12T19:19:41.448070Z"
    }
   },
   "cell_type": "code",
   "source": [
    "# Results\n",
    "from sklearn.metrics import accuracy_score, confusion_matrix, classification_report\n",
    "print('Accuracy:', accuracy_score(y_test, y_pred))\n",
    "print('\\n')\n",
    "print('Confusion Matrix:', confusion_matrix(y_test, y_pred))\n",
    "print('\\n')\n",
    "print(classification_report(y_test, y_pred))\n"
   ],
   "id": "8410337523ad7541",
   "outputs": [
    {
     "name": "stdout",
     "output_type": "stream",
     "text": [
      "Accuracy: 0.9204009090379348\n",
      "\n",
      "\n",
      "Confusion Matrix: [[    0  2732]\n",
      " [    0 31590]]\n",
      "\n",
      "\n",
      "              precision    recall  f1-score   support\n",
      "\n",
      "         neg       0.00      0.00      0.00      2732\n",
      "         pos       0.92      1.00      0.96     31590\n",
      "\n",
      "    accuracy                           0.92     34322\n",
      "   macro avg       0.46      0.50      0.48     34322\n",
      "weighted avg       0.85      0.92      0.88     34322\n",
      "\n"
     ]
    },
    {
     "name": "stderr",
     "output_type": "stream",
     "text": [
      "C:\\Users\\furka\\.conda\\envs\\NLP\\lib\\site-packages\\sklearn\\metrics\\_classification.py:1531: UndefinedMetricWarning: Precision is ill-defined and being set to 0.0 in labels with no predicted samples. Use `zero_division` parameter to control this behavior.\n",
      "  _warn_prf(average, modifier, f\"{metric.capitalize()} is\", len(result))\n",
      "C:\\Users\\furka\\.conda\\envs\\NLP\\lib\\site-packages\\sklearn\\metrics\\_classification.py:1531: UndefinedMetricWarning: Precision is ill-defined and being set to 0.0 in labels with no predicted samples. Use `zero_division` parameter to control this behavior.\n",
      "  _warn_prf(average, modifier, f\"{metric.capitalize()} is\", len(result))\n",
      "C:\\Users\\furka\\.conda\\envs\\NLP\\lib\\site-packages\\sklearn\\metrics\\_classification.py:1531: UndefinedMetricWarning: Precision is ill-defined and being set to 0.0 in labels with no predicted samples. Use `zero_division` parameter to control this behavior.\n",
      "  _warn_prf(average, modifier, f\"{metric.capitalize()} is\", len(result))\n"
     ]
    }
   ],
   "execution_count": 494
  },
  {
   "metadata": {
    "ExecuteTime": {
     "end_time": "2024-08-12T19:19:42.127494Z",
     "start_time": "2024-08-12T19:19:41.961432Z"
    }
   },
   "cell_type": "code",
   "source": [
    "# Graph of results\n",
    "cm = confusion_matrix(y_test, y_pred)\n",
    "sns.heatmap(cm, annot=True, fmt='d')\n",
    "plt.show()"
   ],
   "id": "ff4b00cc814c4f72",
   "outputs": [
    {
     "data": {
      "text/plain": [
       "<Figure size 640x480 with 2 Axes>"
      ],
      "image/png": "[encoded data removed]"
     },
     "metadata": {},
     "output_type": "display_data"
    }
   ],
   "execution_count": 495
  },
  {
   "metadata": {
    "ExecuteTime": {
     "end_time": "2024-08-12T19:19:43.438763Z",
     "start_time": "2024-08-12T19:19:42.627279Z"
    }
   },
   "cell_type": "code",
   "source": [
    "# Save the model\n",
    "import joblib\n",
    "joblib.dump(clf, 'model/sentiment_classification_model.pkl')\n",
    "joblib.dump(count_vectorizer, 'model/count_vectorizer.pkl')\n",
    "joblib.dump(tfidf_transformer, 'model/tfidf_transformer.pkl')"
   ],
   "id": "64cef07369324c06",
   "outputs": [
    {
     "data": {
      "text/plain": [
       "['model/tfidf_transformer.pkl']"
      ]
     },
     "execution_count": 496,
     "metadata": {},
     "output_type": "execute_result"
    }
   ],
   "execution_count": 496
  }
 ],
 "metadata": {
  "kernelspec": {
   "display_name": "Python 3",
   "language": "python",
   "name": "python3"
  },
  "language_info": {
   "codemirror_mode": {
    "name": "ipython",
    "version": 2
   },
   "file_extension": ".py",
   "mimetype": "text/x-python",
   "name": "python",
   "nbconvert_exporter": "python",
   "pygments_lexer": "ipython2",
   "version": "2.7.6"
  }
 },
 "nbformat": 4,
 "nbformat_minor": 5
}
